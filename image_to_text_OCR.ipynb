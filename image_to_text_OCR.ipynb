{
 "cells": [
  {
   "cell_type": "code",
   "execution_count": 1,
   "metadata": {},
   "outputs": [
    {
     "name": "stdout",
     "output_type": "stream",
     "text": [
      " \n",
      "\n",
      "ABC\n",
      "3.Middle Street\n",
      "London, UK\n",
      "\n",
      "Tel +44 45 6003210\n",
      "Emall: info@testing.com\n",
      "Website: swwystesting.com\n",
      "\n",
      "INVOICE Vat no: 1267223VT\n",
      "\n",
      "Satheesh\n",
      "V1 Company\n",
      "Millennium House\n",
      "Millennium Walkway\n",
      "Dublin 1\n",
      "\n",
      "Dot FSP8\n",
      "\n",
      "Date: 29-01-2020\n",
      "Invoice Number 123456\n",
      "Contact Satheosh\n",
      "\n",
      " \n",
      "\n",
      "Date Description Description\n",
      "\n",
      "  \n",
      "\n",
      "Salt order\n",
      "04-01-2020 Salt 76.10 42.70\n",
      "\n",
      "Salt order\n",
      "07-01-2020 Salt 76.10 62.70\n",
      "\n",
      "Salt order\n",
      "08-01-2020 Salt 76.10 42.70\n",
      "\n",
      "Subtotal €128.10\n",
      "\n",
      "Vat 23% €0.00\n",
      "\n",
      "Vat 9% €0.00\n",
      "€128.10\n",
      "\n",
      "EFT Payment Details\n",
      "\n",
      "Bank AB\n",
      "Address Mark Street, UK\n",
      "\n",
      "IBAN UK11 UKBN 4847 3468 4684 33\n",
      "BIC UKBKBN2A\n",
      "\n",
      "Due Date -30days\n",
      "\n",
      "With compliments.\n",
      "\n",
      " \n",
      "\f",
      "\n"
     ]
    }
   ],
   "source": [
    "import re\n",
    "import pytesseract\n",
    "import cv2\n",
    "import matplotlib.pyplot as plt\n",
    "from PIL import Image\n",
    "pytesseract.pytesseract.tesseract_cmd = r'C:\\Program Files\\Tesseract-OCR\\tesseract.exe'\n",
    "#image = cv2.imread(\"test.png\")\n",
    "# PDF file to extract tables from\n",
    "image = r'C:\\Users\\Anonymous\\Downloads\\invoice_image.png'\n",
    "\n",
    "string = pytesseract.image_to_string(image)\n",
    "AB = pytesseract.image_to_alto_xml(image)\n",
    "# print it\n",
    "print(string)"
   ]
  },
  {
   "cell_type": "code",
   "execution_count": 2,
   "metadata": {},
   "outputs": [],
   "source": [
    "# now create 1st list for regular expression.\n",
    "# Create 2nd list for content list of image.\n",
    "# create one dictonary for combine all list relate to regular expression. \n",
    "list1 = ['ABC','(\\+\\w+(?:[ -)(]\\w\\w+)*)','\\S+@\\S+','Vat no:[ ]+(\\w+)','Date:[ ]+(\\d{2}[/-]\\d{2}[/-]\\d{4})','Invoice Number[ ]+(\\w+)','Bank\\s+(\\w+(?:[ ]\\w\\w+)*)','Address\\s+(\\w+(?:[ ,]\\w\\w+)*)','IBAN\\s+(\\w+(?:[ ]\\w\\w+)*)','BIC\\s+(\\w+)','Due Date\\D+(\\w+)','Subtotal\\D+(\\d+.\\d+)','Vat\\D+(\\d+)%\\D+(\\d+.\\d+)']\n",
    "list2 = ['issuer','Telephone','email','Vat No','Date','Invoice No','Bank Name','Bank Address','IBAN No','BIC','Due Date','Subtotal','Vat']\n",
    "dict1 = {}\n",
    "for i,item in enumerate(list1):\n",
    "    field = re.findall(item,string)\n",
    "    dict1[list2[i]] = field"
   ]
  },
  {
   "cell_type": "code",
   "execution_count": 3,
   "metadata": {},
   "outputs": [
    {
     "name": "stdout",
     "output_type": "stream",
     "text": [
      "Json Dictionary Keys:->\n",
      "  dict_keys(['issuer', 'Telephone', 'email', 'Vat No', 'Date', 'Invoice No', 'Bank Name', 'Bank Address', 'IBAN No', 'BIC', 'Due Date', 'Subtotal', 'Vat'])\n",
      "\n",
      "Json Dictionary Values:->\n",
      "  dict_values([['ABC'], ['+44 45 6003210'], ['info@testing.com'], ['1267223VT'], ['29-01-2020'], ['123456'], ['AB'], ['Mark Street'], ['UK11 UKBN 4847 3468 4684 33'], ['UKBKBN2A'], ['30days'], ['128.10'], [['23', '0.00'], ['9', '0.00']]])\n",
      "\n",
      "Json Dictionary Contents with key:->\n",
      "  dict_items([('issuer', ['ABC']), ('Telephone', ['+44 45 6003210']), ('email', ['info@testing.com']), ('Vat No', ['1267223VT']), ('Date', ['29-01-2020']), ('Invoice No', ['123456']), ('Bank Name', ['AB']), ('Bank Address', ['Mark Street']), ('IBAN No', ['UK11 UKBN 4847 3468 4684 33']), ('BIC', ['UKBKBN2A']), ('Due Date', ['30days']), ('Subtotal', ['128.10']), ('Vat', [['23', '0.00'], ['9', '0.00']])])\n"
     ]
    }
   ],
   "source": [
    "# dictionary convert to json format\n",
    "import json\n",
    "\n",
    "r = json.dumps(dict1)\n",
    "loaded_r = json.loads(r)\n",
    "\n",
    "print(\"Json Dictionary Keys:->\\n \",loaded_r.keys())\n",
    "print()\n",
    "print(\"Json Dictionary Values:->\\n \",loaded_r.values())\n",
    "print()\n",
    "print(\"Json Dictionary Contents with key:->\\n \",loaded_r.items())"
   ]
  },
  {
   "cell_type": "code",
   "execution_count": 134,
   "metadata": {},
   "outputs": [
    {
     "name": "stdout",
     "output_type": "stream",
     "text": [
      "Thank You !\n"
     ]
    }
   ],
   "source": [
    "print(\"Thank You !\")"
   ]
  },
  {
   "cell_type": "code",
   "execution_count": null,
   "metadata": {},
   "outputs": [],
   "source": []
  }
 ],
 "metadata": {
  "kernelspec": {
   "display_name": "Python 3",
   "language": "python",
   "name": "python3"
  },
  "language_info": {
   "codemirror_mode": {
    "name": "ipython",
    "version": 3
   },
   "file_extension": ".py",
   "mimetype": "text/x-python",
   "name": "python",
   "nbconvert_exporter": "python",
   "pygments_lexer": "ipython3",
   "version": "3.8.3"
  }
 },
 "nbformat": 4,
 "nbformat_minor": 4
}
